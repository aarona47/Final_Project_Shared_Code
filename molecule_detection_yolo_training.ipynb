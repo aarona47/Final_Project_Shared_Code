{
 "cells": [
  {
   "cell_type": "code",
   "execution_count": 34,
   "metadata": {},
   "outputs": [
    {
     "name": "stdout",
     "output_type": "stream",
     "text": [
      "Requirement already satisfied: gitpython>=3.1.30 in /Users/stlp/.local/lib/python3.9/site-packages (from -r requirements.txt (line 5)) (3.1.43)\n",
      "Requirement already satisfied: matplotlib>=3.3 in /Users/stlp/.local/lib/python3.9/site-packages (from -r requirements.txt (line 6)) (3.9.0)\n",
      "Requirement already satisfied: numpy>=1.23.5 in /Users/stlp/.local/lib/python3.9/site-packages (from -r requirements.txt (line 7)) (1.26.4)\n",
      "Requirement already satisfied: opencv-python>=4.1.1 in /Users/stlp/.local/lib/python3.9/site-packages (from -r requirements.txt (line 8)) (4.9.0.80)\n",
      "Requirement already satisfied: pillow>=10.3.0 in /Users/stlp/.local/lib/python3.9/site-packages (from -r requirements.txt (line 9)) (10.3.0)\n",
      "Requirement already satisfied: psutil in /opt/anaconda3/envs/yolov5/lib/python3.9/site-packages (from -r requirements.txt (line 10)) (5.9.0)\n",
      "Requirement already satisfied: PyYAML>=5.3.1 in /opt/anaconda3/envs/yolov5/lib/python3.9/site-packages (from -r requirements.txt (line 11)) (6.0.1)\n",
      "Requirement already satisfied: requests>=2.23.0 in /opt/anaconda3/envs/yolov5/lib/python3.9/site-packages (from -r requirements.txt (line 12)) (2.31.0)\n",
      "Requirement already satisfied: scipy>=1.4.1 in /Users/stlp/.local/lib/python3.9/site-packages (from -r requirements.txt (line 13)) (1.13.0)\n",
      "Requirement already satisfied: thop>=0.1.1 in /Users/stlp/.local/lib/python3.9/site-packages (from -r requirements.txt (line 14)) (0.1.1.post2209072238)\n",
      "Requirement already satisfied: torch>=1.8.0 in /Users/stlp/.local/lib/python3.9/site-packages (from -r requirements.txt (line 15)) (2.2.2)\n",
      "Requirement already satisfied: torchvision>=0.9.0 in /Users/stlp/.local/lib/python3.9/site-packages (from -r requirements.txt (line 16)) (0.17.2)\n",
      "Requirement already satisfied: tqdm>=4.64.0 in /Users/stlp/.local/lib/python3.9/site-packages (from -r requirements.txt (line 17)) (4.66.4)\n",
      "Requirement already satisfied: ultralytics>=8.0.232 in /Users/stlp/.local/lib/python3.9/site-packages (from -r requirements.txt (line 18)) (8.2.18)\n",
      "Requirement already satisfied: pandas>=1.1.4 in /Users/stlp/.local/lib/python3.9/site-packages (from -r requirements.txt (line 27)) (2.2.2)\n",
      "Requirement already satisfied: seaborn>=0.11.0 in /Users/stlp/.local/lib/python3.9/site-packages (from -r requirements.txt (line 28)) (0.13.2)\n",
      "Requirement already satisfied: setuptools>=65.5.1 in /opt/anaconda3/envs/yolov5/lib/python3.9/site-packages (from -r requirements.txt (line 42)) (69.5.1)\n",
      "Requirement already satisfied: wheel>=0.38.0 in /opt/anaconda3/envs/yolov5/lib/python3.9/site-packages (from -r requirements.txt (line 50)) (0.43.0)\n",
      "Requirement already satisfied: gitdb<5,>=4.0.1 in /Users/stlp/.local/lib/python3.9/site-packages (from gitpython>=3.1.30->-r requirements.txt (line 5)) (4.0.11)\n",
      "Requirement already satisfied: contourpy>=1.0.1 in /Users/stlp/.local/lib/python3.9/site-packages (from matplotlib>=3.3->-r requirements.txt (line 6)) (1.2.1)\n",
      "Requirement already satisfied: cycler>=0.10 in /Users/stlp/.local/lib/python3.9/site-packages (from matplotlib>=3.3->-r requirements.txt (line 6)) (0.12.1)\n",
      "Requirement already satisfied: fonttools>=4.22.0 in /Users/stlp/.local/lib/python3.9/site-packages (from matplotlib>=3.3->-r requirements.txt (line 6)) (4.51.0)\n",
      "Requirement already satisfied: kiwisolver>=1.3.1 in /Users/stlp/.local/lib/python3.9/site-packages (from matplotlib>=3.3->-r requirements.txt (line 6)) (1.4.5)\n",
      "Requirement already satisfied: packaging>=20.0 in /opt/anaconda3/envs/yolov5/lib/python3.9/site-packages (from matplotlib>=3.3->-r requirements.txt (line 6)) (23.2)\n",
      "Requirement already satisfied: pyparsing>=2.3.1 in /Users/stlp/.local/lib/python3.9/site-packages (from matplotlib>=3.3->-r requirements.txt (line 6)) (3.1.2)\n",
      "Requirement already satisfied: python-dateutil>=2.7 in /opt/anaconda3/envs/yolov5/lib/python3.9/site-packages (from matplotlib>=3.3->-r requirements.txt (line 6)) (2.8.2)\n",
      "Requirement already satisfied: importlib-resources>=3.2.0 in /Users/stlp/.local/lib/python3.9/site-packages (from matplotlib>=3.3->-r requirements.txt (line 6)) (6.4.0)\n",
      "Requirement already satisfied: charset-normalizer<4,>=2 in /opt/anaconda3/envs/yolov5/lib/python3.9/site-packages (from requests>=2.23.0->-r requirements.txt (line 12)) (2.0.4)\n",
      "Requirement already satisfied: idna<4,>=2.5 in /opt/anaconda3/envs/yolov5/lib/python3.9/site-packages (from requests>=2.23.0->-r requirements.txt (line 12)) (3.7)\n",
      "Requirement already satisfied: urllib3<3,>=1.21.1 in /opt/anaconda3/envs/yolov5/lib/python3.9/site-packages (from requests>=2.23.0->-r requirements.txt (line 12)) (2.2.1)\n",
      "Requirement already satisfied: certifi>=2017.4.17 in /opt/anaconda3/envs/yolov5/lib/python3.9/site-packages (from requests>=2.23.0->-r requirements.txt (line 12)) (2024.2.2)\n",
      "Requirement already satisfied: filelock in /Users/stlp/.local/lib/python3.9/site-packages (from torch>=1.8.0->-r requirements.txt (line 15)) (3.14.0)\n",
      "Requirement already satisfied: typing-extensions>=4.8.0 in /opt/anaconda3/envs/yolov5/lib/python3.9/site-packages (from torch>=1.8.0->-r requirements.txt (line 15)) (4.11.0)\n",
      "Requirement already satisfied: sympy in /Users/stlp/.local/lib/python3.9/site-packages (from torch>=1.8.0->-r requirements.txt (line 15)) (1.12)\n",
      "Requirement already satisfied: networkx in /Users/stlp/.local/lib/python3.9/site-packages (from torch>=1.8.0->-r requirements.txt (line 15)) (3.2.1)\n",
      "Requirement already satisfied: jinja2 in /opt/anaconda3/envs/yolov5/lib/python3.9/site-packages (from torch>=1.8.0->-r requirements.txt (line 15)) (3.1.3)\n",
      "Requirement already satisfied: fsspec in /Users/stlp/.local/lib/python3.9/site-packages (from torch>=1.8.0->-r requirements.txt (line 15)) (2024.5.0)\n",
      "Requirement already satisfied: py-cpuinfo in /Users/stlp/.local/lib/python3.9/site-packages (from ultralytics>=8.0.232->-r requirements.txt (line 18)) (9.0.0)\n",
      "Requirement already satisfied: pytz>=2020.1 in /opt/anaconda3/envs/yolov5/lib/python3.9/site-packages (from pandas>=1.1.4->-r requirements.txt (line 27)) (2024.1)\n",
      "Requirement already satisfied: tzdata>=2022.7 in /Users/stlp/.local/lib/python3.9/site-packages (from pandas>=1.1.4->-r requirements.txt (line 27)) (2024.1)\n",
      "Requirement already satisfied: smmap<6,>=3.0.1 in /Users/stlp/.local/lib/python3.9/site-packages (from gitdb<5,>=4.0.1->gitpython>=3.1.30->-r requirements.txt (line 5)) (5.0.1)\n",
      "Requirement already satisfied: zipp>=3.1.0 in /opt/anaconda3/envs/yolov5/lib/python3.9/site-packages (from importlib-resources>=3.2.0->matplotlib>=3.3->-r requirements.txt (line 6)) (3.17.0)\n",
      "Requirement already satisfied: six>=1.5 in /opt/anaconda3/envs/yolov5/lib/python3.9/site-packages (from python-dateutil>=2.7->matplotlib>=3.3->-r requirements.txt (line 6)) (1.16.0)\n",
      "Requirement already satisfied: MarkupSafe>=2.0 in /opt/anaconda3/envs/yolov5/lib/python3.9/site-packages (from jinja2->torch>=1.8.0->-r requirements.txt (line 15)) (2.1.3)\n",
      "Requirement already satisfied: mpmath>=0.19 in /Users/stlp/.local/lib/python3.9/site-packages (from sympy->torch>=1.8.0->-r requirements.txt (line 15)) (1.3.0)\n",
      "Note: you may need to restart the kernel to use updated packages.\n",
      "Requirement already satisfied: scikit-learn in /Users/stlp/.local/lib/python3.9/site-packages (1.4.2)\n",
      "Requirement already satisfied: scikit-image in /Users/stlp/.local/lib/python3.9/site-packages (0.22.0)\n",
      "Requirement already satisfied: azureml-core in /Users/stlp/.local/lib/python3.9/site-packages (1.56.0)\n",
      "Requirement already satisfied: numpy>=1.19.5 in /Users/stlp/.local/lib/python3.9/site-packages (from scikit-learn) (1.26.4)\n",
      "Requirement already satisfied: scipy>=1.6.0 in /Users/stlp/.local/lib/python3.9/site-packages (from scikit-learn) (1.13.0)\n",
      "Requirement already satisfied: joblib>=1.2.0 in /Users/stlp/.local/lib/python3.9/site-packages (from scikit-learn) (1.4.2)\n",
      "Requirement already satisfied: threadpoolctl>=2.0.0 in /Users/stlp/.local/lib/python3.9/site-packages (from scikit-learn) (3.5.0)\n",
      "Requirement already satisfied: networkx>=2.8 in /Users/stlp/.local/lib/python3.9/site-packages (from scikit-image) (3.2.1)\n",
      "Requirement already satisfied: pillow>=9.0.1 in /Users/stlp/.local/lib/python3.9/site-packages (from scikit-image) (10.3.0)\n",
      "Requirement already satisfied: imageio>=2.27 in /Users/stlp/.local/lib/python3.9/site-packages (from scikit-image) (2.34.1)\n",
      "Requirement already satisfied: tifffile>=2022.8.12 in /Users/stlp/.local/lib/python3.9/site-packages (from scikit-image) (2024.5.10)\n",
      "Requirement already satisfied: packaging>=21 in /opt/anaconda3/envs/yolov5/lib/python3.9/site-packages (from scikit-image) (23.2)\n",
      "Requirement already satisfied: lazy_loader>=0.3 in /Users/stlp/.local/lib/python3.9/site-packages (from scikit-image) (0.4)\n",
      "Requirement already satisfied: pytz in /opt/anaconda3/envs/yolov5/lib/python3.9/site-packages (from azureml-core) (2024.1)\n",
      "Requirement already satisfied: backports.tempfile in /Users/stlp/.local/lib/python3.9/site-packages (from azureml-core) (1.0)\n",
      "Requirement already satisfied: pathspec<1.0.0 in /Users/stlp/.local/lib/python3.9/site-packages (from azureml-core) (0.12.1)\n",
      "Requirement already satisfied: requests<3.0.0,>=2.19.1 in /opt/anaconda3/envs/yolov5/lib/python3.9/site-packages (from requests[socks]<3.0.0,>=2.19.1->azureml-core) (2.31.0)\n",
      "Requirement already satisfied: msal<2.0.0,>=1.15.0 in /Users/stlp/.local/lib/python3.9/site-packages (from azureml-core) (1.28.0)\n",
      "Requirement already satisfied: msal-extensions<=2.0.0,>=0.3.0 in /Users/stlp/.local/lib/python3.9/site-packages (from azureml-core) (1.1.0)\n",
      "Requirement already satisfied: knack<0.12.0 in /Users/stlp/.local/lib/python3.9/site-packages (from azureml-core) (0.11.0)\n",
      "Requirement already satisfied: azure-core<2.0.0 in /Users/stlp/.local/lib/python3.9/site-packages (from azureml-core) (1.30.1)\n",
      "Requirement already satisfied: pkginfo in /Users/stlp/.local/lib/python3.9/site-packages (from azureml-core) (1.10.0)\n",
      "Requirement already satisfied: argcomplete<4 in /Users/stlp/.local/lib/python3.9/site-packages (from azureml-core) (3.3.0)\n",
      "Requirement already satisfied: humanfriendly<11.0,>=4.7 in /Users/stlp/.local/lib/python3.9/site-packages (from azureml-core) (10.0)\n",
      "Requirement already satisfied: paramiko<4.0.0,>=2.0.8 in /Users/stlp/.local/lib/python3.9/site-packages (from azureml-core) (3.4.0)\n",
      "Requirement already satisfied: azure-mgmt-resource<=24.0.0,>=15.0.0 in /Users/stlp/.local/lib/python3.9/site-packages (from azureml-core) (23.1.1)\n",
      "Requirement already satisfied: azure-mgmt-containerregistry<11,>=8.2.0 in /Users/stlp/.local/lib/python3.9/site-packages (from azureml-core) (10.3.0)\n",
      "Requirement already satisfied: azure-mgmt-storage<=22.0.0,>=16.0.0 in /Users/stlp/.local/lib/python3.9/site-packages (from azureml-core) (21.1.0)\n",
      "Requirement already satisfied: azure-mgmt-keyvault<11.0.0,>=0.40.0 in /Users/stlp/.local/lib/python3.9/site-packages (from azureml-core) (10.3.0)\n",
      "Requirement already satisfied: azure-mgmt-authorization<5,>=0.40.0 in /Users/stlp/.local/lib/python3.9/site-packages (from azureml-core) (4.0.0)\n",
      "Requirement already satisfied: azure-mgmt-network<=26.0.0 in /Users/stlp/.local/lib/python3.9/site-packages (from azureml-core) (25.3.0)\n",
      "Requirement already satisfied: azure-graphrbac<1.0.0,>=0.40.0 in /Users/stlp/.local/lib/python3.9/site-packages (from azureml-core) (0.61.1)\n",
      "Requirement already satisfied: azure-common<2.0.0,>=1.1.12 in /Users/stlp/.local/lib/python3.9/site-packages (from azureml-core) (1.1.28)\n",
      "Requirement already satisfied: msrest<=0.7.1,>=0.5.1 in /Users/stlp/.local/lib/python3.9/site-packages (from azureml-core) (0.7.1)\n",
      "Requirement already satisfied: msrestazure<=0.6.4,>=0.4.33 in /Users/stlp/.local/lib/python3.9/site-packages (from azureml-core) (0.6.4)\n",
      "Requirement already satisfied: urllib3<3.0.0,>1.26.17 in /opt/anaconda3/envs/yolov5/lib/python3.9/site-packages (from azureml-core) (2.2.1)\n",
      "Requirement already satisfied: python-dateutil<3.0.0,>=2.7.3 in /opt/anaconda3/envs/yolov5/lib/python3.9/site-packages (from azureml-core) (2.8.2)\n",
      "Requirement already satisfied: ndg-httpsclient<=0.5.1 in /Users/stlp/.local/lib/python3.9/site-packages (from azureml-core) (0.5.1)\n",
      "Requirement already satisfied: SecretStorage<4.0.0 in /Users/stlp/.local/lib/python3.9/site-packages (from azureml-core) (3.3.3)\n",
      "Requirement already satisfied: jsonpickle<4.0.0 in /Users/stlp/.local/lib/python3.9/site-packages (from azureml-core) (3.0.4)\n",
      "Requirement already satisfied: contextlib2<22.0.0 in /Users/stlp/.local/lib/python3.9/site-packages (from azureml-core) (21.6.0)\n",
      "Requirement already satisfied: docker<8.0.0 in /Users/stlp/.local/lib/python3.9/site-packages (from azureml-core) (7.0.0)\n",
      "Requirement already satisfied: PyJWT<3.0.0 in /Users/stlp/.local/lib/python3.9/site-packages (from azureml-core) (2.8.0)\n",
      "Requirement already satisfied: adal<=1.2.7,>=1.2.0 in /Users/stlp/.local/lib/python3.9/site-packages (from azureml-core) (1.2.7)\n",
      "Requirement already satisfied: pyopenssl<25.0.0 in /Users/stlp/.local/lib/python3.9/site-packages (from azureml-core) (24.1.0)\n",
      "Requirement already satisfied: jmespath<2.0.0 in /Users/stlp/.local/lib/python3.9/site-packages (from azureml-core) (1.0.1)\n",
      "Requirement already satisfied: cryptography>=1.1.0 in /Users/stlp/.local/lib/python3.9/site-packages (from adal<=1.2.7,>=1.2.0->azureml-core) (42.0.7)\n",
      "Requirement already satisfied: six>=1.11.0 in /opt/anaconda3/envs/yolov5/lib/python3.9/site-packages (from azure-core<2.0.0->azureml-core) (1.16.0)\n",
      "Requirement already satisfied: typing-extensions>=4.6.0 in /opt/anaconda3/envs/yolov5/lib/python3.9/site-packages (from azure-core<2.0.0->azureml-core) (4.11.0)\n",
      "Requirement already satisfied: isodate<1.0.0,>=0.6.1 in /Users/stlp/.local/lib/python3.9/site-packages (from azure-mgmt-authorization<5,>=0.40.0->azureml-core) (0.6.1)\n",
      "Requirement already satisfied: azure-mgmt-core<2.0.0,>=1.3.2 in /Users/stlp/.local/lib/python3.9/site-packages (from azure-mgmt-authorization<5,>=0.40.0->azureml-core) (1.4.0)\n",
      "Requirement already satisfied: pygments in /opt/anaconda3/envs/yolov5/lib/python3.9/site-packages (from knack<0.12.0->azureml-core) (2.15.1)\n",
      "Requirement already satisfied: pyyaml in /opt/anaconda3/envs/yolov5/lib/python3.9/site-packages (from knack<0.12.0->azureml-core) (6.0.1)\n",
      "Requirement already satisfied: tabulate in /Users/stlp/.local/lib/python3.9/site-packages (from knack<0.12.0->azureml-core) (0.9.0)\n",
      "Requirement already satisfied: portalocker<3,>=1.0 in /Users/stlp/.local/lib/python3.9/site-packages (from msal-extensions<=2.0.0,>=0.3.0->azureml-core) (2.8.2)\n",
      "Requirement already satisfied: certifi>=2017.4.17 in /opt/anaconda3/envs/yolov5/lib/python3.9/site-packages (from msrest<=0.7.1,>=0.5.1->azureml-core) (2024.2.2)\n",
      "Requirement already satisfied: requests-oauthlib>=0.5.0 in /Users/stlp/.local/lib/python3.9/site-packages (from msrest<=0.7.1,>=0.5.1->azureml-core) (2.0.0)\n",
      "Requirement already satisfied: pyasn1>=0.1.1 in /Users/stlp/.local/lib/python3.9/site-packages (from ndg-httpsclient<=0.5.1->azureml-core) (0.6.0)\n",
      "Requirement already satisfied: bcrypt>=3.2 in /Users/stlp/.local/lib/python3.9/site-packages (from paramiko<4.0.0,>=2.0.8->azureml-core) (4.1.3)\n",
      "Requirement already satisfied: pynacl>=1.5 in /Users/stlp/.local/lib/python3.9/site-packages (from paramiko<4.0.0,>=2.0.8->azureml-core) (1.5.0)\n",
      "Requirement already satisfied: charset-normalizer<4,>=2 in /opt/anaconda3/envs/yolov5/lib/python3.9/site-packages (from requests<3.0.0,>=2.19.1->requests[socks]<3.0.0,>=2.19.1->azureml-core) (2.0.4)\n",
      "Requirement already satisfied: idna<4,>=2.5 in /opt/anaconda3/envs/yolov5/lib/python3.9/site-packages (from requests<3.0.0,>=2.19.1->requests[socks]<3.0.0,>=2.19.1->azureml-core) (3.7)\n",
      "Requirement already satisfied: PySocks!=1.5.7,>=1.5.6 in /opt/anaconda3/envs/yolov5/lib/python3.9/site-packages (from requests[socks]<3.0.0,>=2.19.1->azureml-core) (1.7.1)\n",
      "Requirement already satisfied: jeepney>=0.6 in /Users/stlp/.local/lib/python3.9/site-packages (from SecretStorage<4.0.0->azureml-core) (0.8.0)\n",
      "Requirement already satisfied: backports.weakref in /Users/stlp/.local/lib/python3.9/site-packages (from backports.tempfile->azureml-core) (1.0.post1)\n",
      "Requirement already satisfied: cffi>=1.12 in /opt/anaconda3/envs/yolov5/lib/python3.9/site-packages (from cryptography>=1.1.0->adal<=1.2.7,>=1.2.0->azureml-core) (1.16.0)\n",
      "Requirement already satisfied: oauthlib>=3.0.0 in /Users/stlp/.local/lib/python3.9/site-packages (from requests-oauthlib>=0.5.0->msrest<=0.7.1,>=0.5.1->azureml-core) (3.2.2)\n",
      "Requirement already satisfied: pycparser in /opt/anaconda3/envs/yolov5/lib/python3.9/site-packages (from cffi>=1.12->cryptography>=1.1.0->adal<=1.2.7,>=1.2.0->azureml-core) (2.21)\n",
      "Note: you may need to restart the kernel to use updated packages.\n"
     ]
    }
   ],
   "source": [
    "%pip install -r requirements.txt --user \n",
    "%pip install scikit-learn scikit-image azureml-core --user"
   ]
  },
  {
   "cell_type": "code",
   "execution_count": 35,
   "metadata": {},
   "outputs": [],
   "source": [
    "from util import labeledImage, normalize_coordinates, convert_to_yolo_format\n",
    "from sklearn.model_selection import train_test_split\n",
    "import os, shutil, yaml\n"
   ]
  },
  {
   "cell_type": "code",
   "execution_count": 36,
   "metadata": {},
   "outputs": [],
   "source": [
    "path_to_Mse544_cv = '/Users/stlp/Downloads/Mse544-CustomVision'\n",
    "\n",
    "source_images_dir = f'{path_to_Mse544_cv}/molecules/'\n",
    "source_labels_dir = f'{path_to_Mse544_cv}/molecules/labels/'\n",
    "\n",
    "labeled_images = []\n",
    "tag = 'molecule' \n",
    "\n",
    "for file in os.listdir(source_images_dir):\n",
    "    # find all jpeg file and it's ImageJ label\n",
    "    if file.endswith(\".jpeg\"):\n",
    "        image_path = os.path.join(source_images_dir, file)\n",
    "        label_path = os.path.join(source_labels_dir, file.split('.')[0] + '.txt')\n",
    "        labeled_images.append(labeledImage(image_path))\n",
    "        labeled_images[-1].add_labels_from_file(tag, label_path)"
   ]
  },
  {
   "cell_type": "code",
   "execution_count": 37,
   "metadata": {},
   "outputs": [
    {
     "data": {
      "text/plain": [
       "(35, 10, 5)"
      ]
     },
     "execution_count": 37,
     "metadata": {},
     "output_type": "execute_result"
    }
   ],
   "source": [
    "train_and_val_set, test_set = train_test_split(labeled_images, test_size=0.1)\n",
    "train_set, val_set = train_test_split(train_and_val_set, test_size=(2/9))\n",
    "\n",
    "len(train_set), len(val_set), len(test_set)"
   ]
  },
  {
   "cell_type": "code",
   "execution_count": 38,
   "metadata": {},
   "outputs": [],
   "source": [
    "output_dir = os.path.join(os.getcwd(),'molecule_images')\n",
    "if not os.path.exists(output_dir): os.mkdir(output_dir)\n",
    "\n",
    "train_dir = os.path.join(output_dir, 'train') \n",
    "val_dir   = os.path.join(output_dir, 'val') \n",
    "test_dir  = os.path.join(output_dir, 'test') \n",
    "\n",
    "# Create the sub-directories\n",
    "for d in [train_dir, val_dir, test_dir]:\n",
    "    if not os.path.exists(d): os.mkdir(d)\n",
    "    \n",
    "    images_sub_dir = os.path.join(d, 'images')\n",
    "    labels_sub_dir = os.path.join(d, 'labels')\n",
    "    \n",
    "    for sub_dir in [images_sub_dir, labels_sub_dir]:\n",
    "        if not os.path.exists(sub_dir): os.mkdir(sub_dir)"
   ]
  },
  {
   "cell_type": "code",
   "execution_count": 39,
   "metadata": {},
   "outputs": [
    {
     "name": "stdout",
     "output_type": "stream",
     "text": [
      "successfully generated labels for image  am-2014-02795y_0009.jpeg\n",
      "successfully generated labels for image  ja-2011-10687r_0013.jpeg\n",
      "successfully generated labels for image  cm-2012-017006_0003.jpeg\n",
      "successfully generated labels for image  cm-2014-00172w_0011.jpeg\n",
      "successfully generated labels for image  am-2015-087694_0002.jpeg\n",
      "successfully generated labels for image  cm-2012-011056_0001.jpeg\n",
      "successfully generated labels for image  ja-2016-05418c_0001.jpeg\n",
      "successfully generated labels for image  cm-2015-032569_0005.jpeg\n",
      "successfully generated labels for image  cm-2017-00595k_0001.jpeg\n",
      "successfully generated labels for image  ma-2010-01523a_0003.jpeg\n",
      "successfully generated labels for image  cm-2015-01520c_0001.jpeg\n",
      "successfully generated labels for image  cm-2015-030982_0001.jpeg\n",
      "successfully generated labels for image  ma-2014-00333r_0009.jpeg\n",
      "successfully generated labels for image  cm-2014-01513n_0001.jpeg\n",
      "successfully generated labels for image  ja-2013-04064m_0005.jpeg\n",
      "successfully generated labels for image  ja-2009-09111p_0004.jpeg\n",
      "successfully generated labels for image  ma-2009-02197a_0001.jpeg\n",
      "successfully generated labels for image  cm-2015-01520c_0006.jpeg\n",
      "successfully generated labels for image  cm-2015-00481u_0002.jpeg\n",
      "successfully generated labels for image  ja-2011-10687r_0014.jpeg\n",
      "successfully generated labels for image  ma-2011-02540j_0003.jpeg\n",
      "successfully generated labels for image  ma-2014-00250j_0002.jpeg\n",
      "successfully generated labels for image  ma-2013-00355w_0010.jpeg\n",
      "successfully generated labels for image  ja-2009-09111p_0003.jpeg\n",
      "successfully generated labels for image  ma-2013-00355w_0009.jpeg\n",
      "successfully generated labels for image  ja-2016-05418c_0012.jpeg\n",
      "successfully generated labels for image  ja-2011-01131h_0004.jpeg\n",
      "successfully generated labels for image  cm-2015-00481u_0006.jpeg\n",
      "successfully generated labels for image  cm-2010-00417z_0001.jpeg\n",
      "successfully generated labels for image  mz-2012-00065t_0005.jpeg\n",
      "successfully generated labels for image  cm-2015-032569_0007.jpeg\n",
      "successfully generated labels for image  ma-2014-00250j_0009.jpeg\n",
      "successfully generated labels for image  ja-2009-057986_0003.jpeg\n",
      "successfully generated labels for image  cm-2014-033223_0003.jpeg\n",
      "successfully generated labels for image  ma-2014-01736m_0007.jpeg\n",
      "successfully generated labels for image  ja-2013-04064m_0001.jpeg\n",
      "successfully generated labels for image  am-2014-02795y_0008.jpeg\n",
      "successfully generated labels for image  ma-2014-01736m_0009.jpeg\n",
      "successfully generated labels for image  am-2015-087694_0011.jpeg\n",
      "successfully generated labels for image  ja-2013-06220a_0008.jpeg\n",
      "successfully generated labels for image  ma-2013-00355w_0008.jpeg\n",
      "successfully generated labels for image  ja-2009-057986_0002.jpeg\n",
      "successfully generated labels for image  ma-2012-01312d_0004.jpeg\n",
      "successfully generated labels for image  cm-2015-032569_0006.jpeg\n",
      "successfully generated labels for image  ja-2011-10687r_0003.jpeg\n",
      "successfully generated labels for image  cm-2015-030982_0002.jpeg\n",
      "successfully generated labels for image  ma-2012-01312d_0001.jpeg\n",
      "successfully generated labels for image  cm-2012-017006_0002.jpeg\n",
      "successfully generated labels for image  ja-2011-01131h_0003.jpeg\n",
      "successfully generated labels for image  cm-2015-032569_0010.jpeg\n"
     ]
    }
   ],
   "source": [
    "# make unified yolo tags \n",
    "tags = [tag]\n",
    "\n",
    "# zip the dataset\n",
    "dataset = [(train_dir, train_set),(val_dir, val_set),(test_dir, test_set)]\n",
    "\n",
    "for d, s in dataset:\n",
    "    images_sub_dir = os.path.join(d, 'images')\n",
    "    labels_sub_dir = os.path.join(d, 'labels')\n",
    "\n",
    "    # copy over the images\n",
    "    for img in s:\n",
    "        shutil.copyfile(img.path, os.path.join(images_sub_dir, img.name))\n",
    "    \n",
    "    # covert ImageJ labels to yolo format and save it to labels_sub_dir\n",
    "    convert_to_yolo_format(s, labels_sub_dir, tags)"
   ]
  },
  {
   "cell_type": "code",
   "execution_count": 40,
   "metadata": {},
   "outputs": [],
   "source": [
    "# generate yolo yaml file\n",
    "yolo_yaml = os.path.join(output_dir, 'molecule_detection_yolov5.yaml')\n",
    "\n",
    "with open(yolo_yaml, 'w') as yamlout:\n",
    "    yaml.dump(\n",
    "        {'train': train_dir,\n",
    "         'val': val_dir,\n",
    "         'nc': len(tags),\n",
    "         'names': tags},\n",
    "        yamlout,\n",
    "        default_flow_style=None,\n",
    "        sort_keys=False\n",
    "    )"
   ]
  },
  {
   "cell_type": "code",
   "execution_count": 41,
   "metadata": {},
   "outputs": [
    {
     "name": "stderr",
     "output_type": "stream",
     "text": [
      "\u001b[34m\u001b[1mtrain: \u001b[0mweights=yolov5s.pt, cfg=, data=molecule_images/molecule_detection_yolov5.yaml, hyp=data/hyps/hyp.scratch-low.yaml, epochs=1, batch_size=16, imgsz=640, rect=False, resume=False, nosave=False, noval=False, noautoanchor=False, noplots=False, evolve=None, evolve_population=data/hyps, resume_evolve=None, bucket=, cache=None, image_weights=False, device=, multi_scale=False, single_cls=False, optimizer=SGD, sync_bn=False, workers=8, project=runs/train, name=exp, exist_ok=False, quad=False, cos_lr=False, label_smoothing=0.0, patience=100, freeze=[0], save_period=-1, seed=0, local_rank=-1, entity=None, upload_dataset=False, bbox_interval=-1, artifact_alias=latest, ndjson_console=False, ndjson_file=False\n",
      "\u001b[34m\u001b[1mgithub: \u001b[0mup to date with https://github.com/ultralytics/yolov5 ✅\n",
      "YOLOv5 🚀 v7.0-313-g712de55a Python-3.9.19 torch-2.2.2 CPU\n",
      "\n",
      "\u001b[34m\u001b[1mhyperparameters: \u001b[0mlr0=0.01, lrf=0.01, momentum=0.937, weight_decay=0.0005, warmup_epochs=3.0, warmup_momentum=0.8, warmup_bias_lr=0.1, box=0.05, cls=0.5, cls_pw=1.0, obj=1.0, obj_pw=1.0, iou_t=0.2, anchor_t=4.0, fl_gamma=0.0, hsv_h=0.015, hsv_s=0.7, hsv_v=0.4, degrees=0.0, translate=0.1, scale=0.5, shear=0.0, perspective=0.0, flipud=0.0, fliplr=0.5, mosaic=1.0, mixup=0.0, copy_paste=0.0\n",
      "\u001b[34m\u001b[1mComet: \u001b[0mrun 'pip install comet_ml' to automatically track and visualize YOLOv5 🚀 runs in Comet\n",
      "\u001b[34m\u001b[1mTensorBoard: \u001b[0mStart with 'tensorboard --logdir runs/train', view at http://localhost:6006/\n",
      "Overriding model.yaml nc=80 with nc=1\n",
      "\n",
      "                 from  n    params  module                                  arguments                     \n",
      "  0                -1  1      3520  models.common.Conv                      [3, 32, 6, 2, 2]              \n",
      "  1                -1  1     18560  models.common.Conv                      [32, 64, 3, 2]                \n",
      "  2                -1  1     18816  models.common.C3                        [64, 64, 1]                   \n",
      "  3                -1  1     73984  models.common.Conv                      [64, 128, 3, 2]               \n",
      "  4                -1  2    115712  models.common.C3                        [128, 128, 2]                 \n",
      "  5                -1  1    295424  models.common.Conv                      [128, 256, 3, 2]              \n",
      "  6                -1  3    625152  models.common.C3                        [256, 256, 3]                 \n",
      "  7                -1  1   1180672  models.common.Conv                      [256, 512, 3, 2]              \n",
      "  8                -1  1   1182720  models.common.C3                        [512, 512, 1]                 \n",
      "  9                -1  1    656896  models.common.SPPF                      [512, 512, 5]                 \n",
      " 10                -1  1    131584  models.common.Conv                      [512, 256, 1, 1]              \n",
      " 11                -1  1         0  torch.nn.modules.upsampling.Upsample    [None, 2, 'nearest']          \n",
      " 12           [-1, 6]  1         0  models.common.Concat                    [1]                           \n",
      " 13                -1  1    361984  models.common.C3                        [512, 256, 1, False]          \n",
      " 14                -1  1     33024  models.common.Conv                      [256, 128, 1, 1]              \n",
      " 15                -1  1         0  torch.nn.modules.upsampling.Upsample    [None, 2, 'nearest']          \n",
      " 16           [-1, 4]  1         0  models.common.Concat                    [1]                           \n",
      " 17                -1  1     90880  models.common.C3                        [256, 128, 1, False]          \n",
      " 18                -1  1    147712  models.common.Conv                      [128, 128, 3, 2]              \n",
      " 19          [-1, 14]  1         0  models.common.Concat                    [1]                           \n",
      " 20                -1  1    296448  models.common.C3                        [256, 256, 1, False]          \n",
      " 21                -1  1    590336  models.common.Conv                      [256, 256, 3, 2]              \n",
      " 22          [-1, 10]  1         0  models.common.Concat                    [1]                           \n",
      " 23                -1  1   1182720  models.common.C3                        [512, 512, 1, False]          \n",
      " 24      [17, 20, 23]  1     16182  models.yolo.Detect                      [1, [[10, 13, 16, 30, 33, 23], [30, 61, 62, 45, 59, 119], [116, 90, 156, 198, 373, 326]], [128, 256, 512]]\n",
      "Model summary: 214 layers, 7022326 parameters, 7022326 gradients, 15.9 GFLOPs\n",
      "\n",
      "Transferred 343/349 items from yolov5s.pt\n",
      "\u001b[34m\u001b[1moptimizer:\u001b[0m SGD(lr=0.01) with parameter groups 57 weight(decay=0.0), 60 weight(decay=0.0005), 60 bias\n"
     ]
    },
    {
     "ename": "AttributeError",
     "evalue": "module '__main__' has no attribute '__spec__'",
     "output_type": "error",
     "traceback": [
      "\u001b[0;31m---------------------------------------------------------------------------\u001b[0m",
      "\u001b[0;31mFileNotFoundError\u001b[0m                         Traceback (most recent call last)",
      "File \u001b[0;32m~/Downloads/Mse544-CustomVision/MSE544_yolo_training/yolov5/utils/dataloaders.py:591\u001b[0m, in \u001b[0;36mLoadImagesAndLabels.__init__\u001b[0;34m(self, path, img_size, batch_size, augment, hyp, rect, image_weights, cache_images, single_cls, stride, pad, min_items, prefix, rank, seed)\u001b[0m\n\u001b[1;32m    590\u001b[0m \u001b[38;5;28;01mtry\u001b[39;00m:\n\u001b[0;32m--> 591\u001b[0m     cache, exists \u001b[38;5;241m=\u001b[39m \u001b[43mnp\u001b[49m\u001b[38;5;241;43m.\u001b[39;49m\u001b[43mload\u001b[49m\u001b[43m(\u001b[49m\u001b[43mcache_path\u001b[49m\u001b[43m,\u001b[49m\u001b[43m \u001b[49m\u001b[43mallow_pickle\u001b[49m\u001b[38;5;241;43m=\u001b[39;49m\u001b[38;5;28;43;01mTrue\u001b[39;49;00m\u001b[43m)\u001b[49m\u001b[38;5;241m.\u001b[39mitem(), \u001b[38;5;28;01mTrue\u001b[39;00m  \u001b[38;5;66;03m# load dict\u001b[39;00m\n\u001b[1;32m    592\u001b[0m     \u001b[38;5;28;01massert\u001b[39;00m cache[\u001b[38;5;124m\"\u001b[39m\u001b[38;5;124mversion\u001b[39m\u001b[38;5;124m\"\u001b[39m] \u001b[38;5;241m==\u001b[39m \u001b[38;5;28mself\u001b[39m\u001b[38;5;241m.\u001b[39mcache_version  \u001b[38;5;66;03m# matches current version\u001b[39;00m\n",
      "File \u001b[0;32m~/.local/lib/python3.9/site-packages/numpy/lib/npyio.py:427\u001b[0m, in \u001b[0;36mload\u001b[0;34m(file, mmap_mode, allow_pickle, fix_imports, encoding, max_header_size)\u001b[0m\n\u001b[1;32m    426\u001b[0m \u001b[38;5;28;01melse\u001b[39;00m:\n\u001b[0;32m--> 427\u001b[0m     fid \u001b[38;5;241m=\u001b[39m stack\u001b[38;5;241m.\u001b[39menter_context(\u001b[38;5;28;43mopen\u001b[39;49m\u001b[43m(\u001b[49m\u001b[43mos_fspath\u001b[49m\u001b[43m(\u001b[49m\u001b[43mfile\u001b[49m\u001b[43m)\u001b[49m\u001b[43m,\u001b[49m\u001b[43m \u001b[49m\u001b[38;5;124;43m\"\u001b[39;49m\u001b[38;5;124;43mrb\u001b[39;49m\u001b[38;5;124;43m\"\u001b[39;49m\u001b[43m)\u001b[49m)\n\u001b[1;32m    428\u001b[0m     own_fid \u001b[38;5;241m=\u001b[39m \u001b[38;5;28;01mTrue\u001b[39;00m\n",
      "\u001b[0;31mFileNotFoundError\u001b[0m: [Errno 2] No such file or directory: '/Users/stlp/Downloads/Mse544-CustomVision/MSE544_yolo_training/yolov5/molecule_images/train/labels.cache'",
      "\nDuring handling of the above exception, another exception occurred:\n",
      "\u001b[0;31mAttributeError\u001b[0m                            Traceback (most recent call last)",
      "File \u001b[0;32m~/Downloads/Mse544-CustomVision/MSE544_yolo_training/yolov5/train.py:848\u001b[0m\n\u001b[1;32m    846\u001b[0m \u001b[38;5;28;01mif\u001b[39;00m \u001b[38;5;18m__name__\u001b[39m \u001b[38;5;241m==\u001b[39m \u001b[38;5;124m\"\u001b[39m\u001b[38;5;124m__main__\u001b[39m\u001b[38;5;124m\"\u001b[39m:\n\u001b[1;32m    847\u001b[0m     opt \u001b[38;5;241m=\u001b[39m parse_opt()\n\u001b[0;32m--> 848\u001b[0m     \u001b[43mmain\u001b[49m\u001b[43m(\u001b[49m\u001b[43mopt\u001b[49m\u001b[43m)\u001b[49m\n",
      "File \u001b[0;32m~/Downloads/Mse544-CustomVision/MSE544_yolo_training/yolov5/train.py:623\u001b[0m, in \u001b[0;36mmain\u001b[0;34m(opt, callbacks)\u001b[0m\n\u001b[1;32m    621\u001b[0m \u001b[38;5;66;03m# Train\u001b[39;00m\n\u001b[1;32m    622\u001b[0m \u001b[38;5;28;01mif\u001b[39;00m \u001b[38;5;129;01mnot\u001b[39;00m opt\u001b[38;5;241m.\u001b[39mevolve:\n\u001b[0;32m--> 623\u001b[0m     \u001b[43mtrain\u001b[49m\u001b[43m(\u001b[49m\u001b[43mopt\u001b[49m\u001b[38;5;241;43m.\u001b[39;49m\u001b[43mhyp\u001b[49m\u001b[43m,\u001b[49m\u001b[43m \u001b[49m\u001b[43mopt\u001b[49m\u001b[43m,\u001b[49m\u001b[43m \u001b[49m\u001b[43mdevice\u001b[49m\u001b[43m,\u001b[49m\u001b[43m \u001b[49m\u001b[43mcallbacks\u001b[49m\u001b[43m)\u001b[49m\n\u001b[1;32m    625\u001b[0m \u001b[38;5;66;03m# Evolve hyperparameters (optional)\u001b[39;00m\n\u001b[1;32m    626\u001b[0m \u001b[38;5;28;01melse\u001b[39;00m:\n\u001b[1;32m    627\u001b[0m     \u001b[38;5;66;03m# Hyperparameter evolution metadata (including this hyperparameter True-False, lower_limit, upper_limit)\u001b[39;00m\n\u001b[1;32m    628\u001b[0m     meta \u001b[38;5;241m=\u001b[39m {\n\u001b[1;32m    629\u001b[0m         \u001b[38;5;124m\"\u001b[39m\u001b[38;5;124mlr0\u001b[39m\u001b[38;5;124m\"\u001b[39m: (\u001b[38;5;28;01mFalse\u001b[39;00m, \u001b[38;5;241m1e-5\u001b[39m, \u001b[38;5;241m1e-1\u001b[39m),  \u001b[38;5;66;03m# initial learning rate (SGD=1E-2, Adam=1E-3)\u001b[39;00m\n\u001b[1;32m    630\u001b[0m         \u001b[38;5;124m\"\u001b[39m\u001b[38;5;124mlrf\u001b[39m\u001b[38;5;124m\"\u001b[39m: (\u001b[38;5;28;01mFalse\u001b[39;00m, \u001b[38;5;241m0.01\u001b[39m, \u001b[38;5;241m1.0\u001b[39m),  \u001b[38;5;66;03m# final OneCycleLR learning rate (lr0 * lrf)\u001b[39;00m\n\u001b[0;32m   (...)\u001b[0m\n\u001b[1;32m    657\u001b[0m         \u001b[38;5;124m\"\u001b[39m\u001b[38;5;124mcopy_paste\u001b[39m\u001b[38;5;124m\"\u001b[39m: (\u001b[38;5;28;01mTrue\u001b[39;00m, \u001b[38;5;241m0.0\u001b[39m, \u001b[38;5;241m1.0\u001b[39m),\n\u001b[1;32m    658\u001b[0m     }  \u001b[38;5;66;03m# segment copy-paste (probability)\u001b[39;00m\n",
      "File \u001b[0;32m~/Downloads/Mse544-CustomVision/MSE544_yolo_training/yolov5/train.py:254\u001b[0m, in \u001b[0;36mtrain\u001b[0;34m(hyp, opt, device, callbacks)\u001b[0m\n\u001b[1;32m    251\u001b[0m     LOGGER\u001b[38;5;241m.\u001b[39minfo(\u001b[38;5;124m\"\u001b[39m\u001b[38;5;124mUsing SyncBatchNorm()\u001b[39m\u001b[38;5;124m\"\u001b[39m)\n\u001b[1;32m    253\u001b[0m \u001b[38;5;66;03m# Trainloader\u001b[39;00m\n\u001b[0;32m--> 254\u001b[0m train_loader, dataset \u001b[38;5;241m=\u001b[39m \u001b[43mcreate_dataloader\u001b[49m\u001b[43m(\u001b[49m\n\u001b[1;32m    255\u001b[0m \u001b[43m    \u001b[49m\u001b[43mtrain_path\u001b[49m\u001b[43m,\u001b[49m\n\u001b[1;32m    256\u001b[0m \u001b[43m    \u001b[49m\u001b[43mimgsz\u001b[49m\u001b[43m,\u001b[49m\n\u001b[1;32m    257\u001b[0m \u001b[43m    \u001b[49m\u001b[43mbatch_size\u001b[49m\u001b[43m \u001b[49m\u001b[38;5;241;43m/\u001b[39;49m\u001b[38;5;241;43m/\u001b[39;49m\u001b[43m \u001b[49m\u001b[43mWORLD_SIZE\u001b[49m\u001b[43m,\u001b[49m\n\u001b[1;32m    258\u001b[0m \u001b[43m    \u001b[49m\u001b[43mgs\u001b[49m\u001b[43m,\u001b[49m\n\u001b[1;32m    259\u001b[0m \u001b[43m    \u001b[49m\u001b[43msingle_cls\u001b[49m\u001b[43m,\u001b[49m\n\u001b[1;32m    260\u001b[0m \u001b[43m    \u001b[49m\u001b[43mhyp\u001b[49m\u001b[38;5;241;43m=\u001b[39;49m\u001b[43mhyp\u001b[49m\u001b[43m,\u001b[49m\n\u001b[1;32m    261\u001b[0m \u001b[43m    \u001b[49m\u001b[43maugment\u001b[49m\u001b[38;5;241;43m=\u001b[39;49m\u001b[38;5;28;43;01mTrue\u001b[39;49;00m\u001b[43m,\u001b[49m\n\u001b[1;32m    262\u001b[0m \u001b[43m    \u001b[49m\u001b[43mcache\u001b[49m\u001b[38;5;241;43m=\u001b[39;49m\u001b[38;5;28;43;01mNone\u001b[39;49;00m\u001b[43m \u001b[49m\u001b[38;5;28;43;01mif\u001b[39;49;00m\u001b[43m \u001b[49m\u001b[43mopt\u001b[49m\u001b[38;5;241;43m.\u001b[39;49m\u001b[43mcache\u001b[49m\u001b[43m \u001b[49m\u001b[38;5;241;43m==\u001b[39;49m\u001b[43m \u001b[49m\u001b[38;5;124;43m\"\u001b[39;49m\u001b[38;5;124;43mval\u001b[39;49m\u001b[38;5;124;43m\"\u001b[39;49m\u001b[43m \u001b[49m\u001b[38;5;28;43;01melse\u001b[39;49;00m\u001b[43m \u001b[49m\u001b[43mopt\u001b[49m\u001b[38;5;241;43m.\u001b[39;49m\u001b[43mcache\u001b[49m\u001b[43m,\u001b[49m\n\u001b[1;32m    263\u001b[0m \u001b[43m    \u001b[49m\u001b[43mrect\u001b[49m\u001b[38;5;241;43m=\u001b[39;49m\u001b[43mopt\u001b[49m\u001b[38;5;241;43m.\u001b[39;49m\u001b[43mrect\u001b[49m\u001b[43m,\u001b[49m\n\u001b[1;32m    264\u001b[0m \u001b[43m    \u001b[49m\u001b[43mrank\u001b[49m\u001b[38;5;241;43m=\u001b[39;49m\u001b[43mLOCAL_RANK\u001b[49m\u001b[43m,\u001b[49m\n\u001b[1;32m    265\u001b[0m \u001b[43m    \u001b[49m\u001b[43mworkers\u001b[49m\u001b[38;5;241;43m=\u001b[39;49m\u001b[43mworkers\u001b[49m\u001b[43m,\u001b[49m\n\u001b[1;32m    266\u001b[0m \u001b[43m    \u001b[49m\u001b[43mimage_weights\u001b[49m\u001b[38;5;241;43m=\u001b[39;49m\u001b[43mopt\u001b[49m\u001b[38;5;241;43m.\u001b[39;49m\u001b[43mimage_weights\u001b[49m\u001b[43m,\u001b[49m\n\u001b[1;32m    267\u001b[0m \u001b[43m    \u001b[49m\u001b[43mquad\u001b[49m\u001b[38;5;241;43m=\u001b[39;49m\u001b[43mopt\u001b[49m\u001b[38;5;241;43m.\u001b[39;49m\u001b[43mquad\u001b[49m\u001b[43m,\u001b[49m\n\u001b[1;32m    268\u001b[0m \u001b[43m    \u001b[49m\u001b[43mprefix\u001b[49m\u001b[38;5;241;43m=\u001b[39;49m\u001b[43mcolorstr\u001b[49m\u001b[43m(\u001b[49m\u001b[38;5;124;43m\"\u001b[39;49m\u001b[38;5;124;43mtrain: \u001b[39;49m\u001b[38;5;124;43m\"\u001b[39;49m\u001b[43m)\u001b[49m\u001b[43m,\u001b[49m\n\u001b[1;32m    269\u001b[0m \u001b[43m    \u001b[49m\u001b[43mshuffle\u001b[49m\u001b[38;5;241;43m=\u001b[39;49m\u001b[38;5;28;43;01mTrue\u001b[39;49;00m\u001b[43m,\u001b[49m\n\u001b[1;32m    270\u001b[0m \u001b[43m    \u001b[49m\u001b[43mseed\u001b[49m\u001b[38;5;241;43m=\u001b[39;49m\u001b[43mopt\u001b[49m\u001b[38;5;241;43m.\u001b[39;49m\u001b[43mseed\u001b[49m\u001b[43m,\u001b[49m\n\u001b[1;32m    271\u001b[0m \u001b[43m\u001b[49m\u001b[43m)\u001b[49m\n\u001b[1;32m    272\u001b[0m labels \u001b[38;5;241m=\u001b[39m np\u001b[38;5;241m.\u001b[39mconcatenate(dataset\u001b[38;5;241m.\u001b[39mlabels, \u001b[38;5;241m0\u001b[39m)\n\u001b[1;32m    273\u001b[0m mlc \u001b[38;5;241m=\u001b[39m \u001b[38;5;28mint\u001b[39m(labels[:, \u001b[38;5;241m0\u001b[39m]\u001b[38;5;241m.\u001b[39mmax())  \u001b[38;5;66;03m# max label class\u001b[39;00m\n",
      "File \u001b[0;32m~/Downloads/Mse544-CustomVision/MSE544_yolo_training/yolov5/utils/dataloaders.py:181\u001b[0m, in \u001b[0;36mcreate_dataloader\u001b[0;34m(path, imgsz, batch_size, stride, single_cls, hyp, augment, cache, pad, rect, rank, workers, image_weights, quad, prefix, shuffle, seed)\u001b[0m\n\u001b[1;32m    179\u001b[0m     shuffle \u001b[38;5;241m=\u001b[39m \u001b[38;5;28;01mFalse\u001b[39;00m\n\u001b[1;32m    180\u001b[0m \u001b[38;5;28;01mwith\u001b[39;00m torch_distributed_zero_first(rank):  \u001b[38;5;66;03m# init dataset *.cache only once if DDP\u001b[39;00m\n\u001b[0;32m--> 181\u001b[0m     dataset \u001b[38;5;241m=\u001b[39m \u001b[43mLoadImagesAndLabels\u001b[49m\u001b[43m(\u001b[49m\n\u001b[1;32m    182\u001b[0m \u001b[43m        \u001b[49m\u001b[43mpath\u001b[49m\u001b[43m,\u001b[49m\n\u001b[1;32m    183\u001b[0m \u001b[43m        \u001b[49m\u001b[43mimgsz\u001b[49m\u001b[43m,\u001b[49m\n\u001b[1;32m    184\u001b[0m \u001b[43m        \u001b[49m\u001b[43mbatch_size\u001b[49m\u001b[43m,\u001b[49m\n\u001b[1;32m    185\u001b[0m \u001b[43m        \u001b[49m\u001b[43maugment\u001b[49m\u001b[38;5;241;43m=\u001b[39;49m\u001b[43maugment\u001b[49m\u001b[43m,\u001b[49m\u001b[43m  \u001b[49m\u001b[38;5;66;43;03m# augmentation\u001b[39;49;00m\n\u001b[1;32m    186\u001b[0m \u001b[43m        \u001b[49m\u001b[43mhyp\u001b[49m\u001b[38;5;241;43m=\u001b[39;49m\u001b[43mhyp\u001b[49m\u001b[43m,\u001b[49m\u001b[43m  \u001b[49m\u001b[38;5;66;43;03m# hyperparameters\u001b[39;49;00m\n\u001b[1;32m    187\u001b[0m \u001b[43m        \u001b[49m\u001b[43mrect\u001b[49m\u001b[38;5;241;43m=\u001b[39;49m\u001b[43mrect\u001b[49m\u001b[43m,\u001b[49m\u001b[43m  \u001b[49m\u001b[38;5;66;43;03m# rectangular batches\u001b[39;49;00m\n\u001b[1;32m    188\u001b[0m \u001b[43m        \u001b[49m\u001b[43mcache_images\u001b[49m\u001b[38;5;241;43m=\u001b[39;49m\u001b[43mcache\u001b[49m\u001b[43m,\u001b[49m\n\u001b[1;32m    189\u001b[0m \u001b[43m        \u001b[49m\u001b[43msingle_cls\u001b[49m\u001b[38;5;241;43m=\u001b[39;49m\u001b[43msingle_cls\u001b[49m\u001b[43m,\u001b[49m\n\u001b[1;32m    190\u001b[0m \u001b[43m        \u001b[49m\u001b[43mstride\u001b[49m\u001b[38;5;241;43m=\u001b[39;49m\u001b[38;5;28;43mint\u001b[39;49m\u001b[43m(\u001b[49m\u001b[43mstride\u001b[49m\u001b[43m)\u001b[49m\u001b[43m,\u001b[49m\n\u001b[1;32m    191\u001b[0m \u001b[43m        \u001b[49m\u001b[43mpad\u001b[49m\u001b[38;5;241;43m=\u001b[39;49m\u001b[43mpad\u001b[49m\u001b[43m,\u001b[49m\n\u001b[1;32m    192\u001b[0m \u001b[43m        \u001b[49m\u001b[43mimage_weights\u001b[49m\u001b[38;5;241;43m=\u001b[39;49m\u001b[43mimage_weights\u001b[49m\u001b[43m,\u001b[49m\n\u001b[1;32m    193\u001b[0m \u001b[43m        \u001b[49m\u001b[43mprefix\u001b[49m\u001b[38;5;241;43m=\u001b[39;49m\u001b[43mprefix\u001b[49m\u001b[43m,\u001b[49m\n\u001b[1;32m    194\u001b[0m \u001b[43m        \u001b[49m\u001b[43mrank\u001b[49m\u001b[38;5;241;43m=\u001b[39;49m\u001b[43mrank\u001b[49m\u001b[43m,\u001b[49m\n\u001b[1;32m    195\u001b[0m \u001b[43m    \u001b[49m\u001b[43m)\u001b[49m\n\u001b[1;32m    197\u001b[0m batch_size \u001b[38;5;241m=\u001b[39m \u001b[38;5;28mmin\u001b[39m(batch_size, \u001b[38;5;28mlen\u001b[39m(dataset))\n\u001b[1;32m    198\u001b[0m nd \u001b[38;5;241m=\u001b[39m torch\u001b[38;5;241m.\u001b[39mcuda\u001b[38;5;241m.\u001b[39mdevice_count()  \u001b[38;5;66;03m# number of CUDA devices\u001b[39;00m\n",
      "File \u001b[0;32m~/Downloads/Mse544-CustomVision/MSE544_yolo_training/yolov5/utils/dataloaders.py:595\u001b[0m, in \u001b[0;36mLoadImagesAndLabels.__init__\u001b[0;34m(self, path, img_size, batch_size, augment, hyp, rect, image_weights, cache_images, single_cls, stride, pad, min_items, prefix, rank, seed)\u001b[0m\n\u001b[1;32m    593\u001b[0m     \u001b[38;5;28;01massert\u001b[39;00m cache[\u001b[38;5;124m\"\u001b[39m\u001b[38;5;124mhash\u001b[39m\u001b[38;5;124m\"\u001b[39m] \u001b[38;5;241m==\u001b[39m get_hash(\u001b[38;5;28mself\u001b[39m\u001b[38;5;241m.\u001b[39mlabel_files \u001b[38;5;241m+\u001b[39m \u001b[38;5;28mself\u001b[39m\u001b[38;5;241m.\u001b[39mim_files)  \u001b[38;5;66;03m# identical hash\u001b[39;00m\n\u001b[1;32m    594\u001b[0m \u001b[38;5;28;01mexcept\u001b[39;00m \u001b[38;5;167;01mException\u001b[39;00m:\n\u001b[0;32m--> 595\u001b[0m     cache, exists \u001b[38;5;241m=\u001b[39m \u001b[38;5;28;43mself\u001b[39;49m\u001b[38;5;241;43m.\u001b[39;49m\u001b[43mcache_labels\u001b[49m\u001b[43m(\u001b[49m\u001b[43mcache_path\u001b[49m\u001b[43m,\u001b[49m\u001b[43m \u001b[49m\u001b[43mprefix\u001b[49m\u001b[43m)\u001b[49m, \u001b[38;5;28;01mFalse\u001b[39;00m  \u001b[38;5;66;03m# run cache ops\u001b[39;00m\n\u001b[1;32m    597\u001b[0m \u001b[38;5;66;03m# Display cache\u001b[39;00m\n\u001b[1;32m    598\u001b[0m nf, nm, ne, nc, n \u001b[38;5;241m=\u001b[39m cache\u001b[38;5;241m.\u001b[39mpop(\u001b[38;5;124m\"\u001b[39m\u001b[38;5;124mresults\u001b[39m\u001b[38;5;124m\"\u001b[39m)  \u001b[38;5;66;03m# found, missing, empty, corrupt, total\u001b[39;00m\n",
      "File \u001b[0;32m~/Downloads/Mse544-CustomVision/MSE544_yolo_training/yolov5/utils/dataloaders.py:719\u001b[0m, in \u001b[0;36mLoadImagesAndLabels.cache_labels\u001b[0;34m(self, path, prefix)\u001b[0m\n\u001b[1;32m    717\u001b[0m nm, nf, ne, nc, msgs \u001b[38;5;241m=\u001b[39m \u001b[38;5;241m0\u001b[39m, \u001b[38;5;241m0\u001b[39m, \u001b[38;5;241m0\u001b[39m, \u001b[38;5;241m0\u001b[39m, []  \u001b[38;5;66;03m# number missing, found, empty, corrupt, messages\u001b[39;00m\n\u001b[1;32m    718\u001b[0m desc \u001b[38;5;241m=\u001b[39m \u001b[38;5;124mf\u001b[39m\u001b[38;5;124m\"\u001b[39m\u001b[38;5;132;01m{\u001b[39;00mprefix\u001b[38;5;132;01m}\u001b[39;00m\u001b[38;5;124mScanning \u001b[39m\u001b[38;5;132;01m{\u001b[39;00mpath\u001b[38;5;241m.\u001b[39mparent\u001b[38;5;250m \u001b[39m\u001b[38;5;241m/\u001b[39m\u001b[38;5;250m \u001b[39mpath\u001b[38;5;241m.\u001b[39mstem\u001b[38;5;132;01m}\u001b[39;00m\u001b[38;5;124m...\u001b[39m\u001b[38;5;124m\"\u001b[39m\n\u001b[0;32m--> 719\u001b[0m \u001b[38;5;28;01mwith\u001b[39;00m \u001b[43mPool\u001b[49m\u001b[43m(\u001b[49m\u001b[43mNUM_THREADS\u001b[49m\u001b[43m)\u001b[49m \u001b[38;5;28;01mas\u001b[39;00m pool:\n\u001b[1;32m    720\u001b[0m     pbar \u001b[38;5;241m=\u001b[39m tqdm(\n\u001b[1;32m    721\u001b[0m         pool\u001b[38;5;241m.\u001b[39mimap(verify_image_label, \u001b[38;5;28mzip\u001b[39m(\u001b[38;5;28mself\u001b[39m\u001b[38;5;241m.\u001b[39mim_files, \u001b[38;5;28mself\u001b[39m\u001b[38;5;241m.\u001b[39mlabel_files, repeat(prefix))),\n\u001b[1;32m    722\u001b[0m         desc\u001b[38;5;241m=\u001b[39mdesc,\n\u001b[1;32m    723\u001b[0m         total\u001b[38;5;241m=\u001b[39m\u001b[38;5;28mlen\u001b[39m(\u001b[38;5;28mself\u001b[39m\u001b[38;5;241m.\u001b[39mim_files),\n\u001b[1;32m    724\u001b[0m         bar_format\u001b[38;5;241m=\u001b[39mTQDM_BAR_FORMAT,\n\u001b[1;32m    725\u001b[0m     )\n\u001b[1;32m    726\u001b[0m     \u001b[38;5;28;01mfor\u001b[39;00m im_file, lb, shape, segments, nm_f, nf_f, ne_f, nc_f, msg \u001b[38;5;129;01min\u001b[39;00m pbar:\n",
      "File \u001b[0;32m/opt/anaconda3/envs/yolov5/lib/python3.9/multiprocessing/pool.py:212\u001b[0m, in \u001b[0;36mPool.__init__\u001b[0;34m(self, processes, initializer, initargs, maxtasksperchild, context)\u001b[0m\n\u001b[1;32m    210\u001b[0m \u001b[38;5;28mself\u001b[39m\u001b[38;5;241m.\u001b[39m_processes \u001b[38;5;241m=\u001b[39m processes\n\u001b[1;32m    211\u001b[0m \u001b[38;5;28;01mtry\u001b[39;00m:\n\u001b[0;32m--> 212\u001b[0m     \u001b[38;5;28;43mself\u001b[39;49m\u001b[38;5;241;43m.\u001b[39;49m\u001b[43m_repopulate_pool\u001b[49m\u001b[43m(\u001b[49m\u001b[43m)\u001b[49m\n\u001b[1;32m    213\u001b[0m \u001b[38;5;28;01mexcept\u001b[39;00m \u001b[38;5;167;01mException\u001b[39;00m:\n\u001b[1;32m    214\u001b[0m     \u001b[38;5;28;01mfor\u001b[39;00m p \u001b[38;5;129;01min\u001b[39;00m \u001b[38;5;28mself\u001b[39m\u001b[38;5;241m.\u001b[39m_pool:\n",
      "File \u001b[0;32m/opt/anaconda3/envs/yolov5/lib/python3.9/multiprocessing/pool.py:303\u001b[0m, in \u001b[0;36mPool._repopulate_pool\u001b[0;34m(self)\u001b[0m\n\u001b[1;32m    302\u001b[0m \u001b[38;5;28;01mdef\u001b[39;00m \u001b[38;5;21m_repopulate_pool\u001b[39m(\u001b[38;5;28mself\u001b[39m):\n\u001b[0;32m--> 303\u001b[0m     \u001b[38;5;28;01mreturn\u001b[39;00m \u001b[38;5;28;43mself\u001b[39;49m\u001b[38;5;241;43m.\u001b[39;49m\u001b[43m_repopulate_pool_static\u001b[49m\u001b[43m(\u001b[49m\u001b[38;5;28;43mself\u001b[39;49m\u001b[38;5;241;43m.\u001b[39;49m\u001b[43m_ctx\u001b[49m\u001b[43m,\u001b[49m\u001b[43m \u001b[49m\u001b[38;5;28;43mself\u001b[39;49m\u001b[38;5;241;43m.\u001b[39;49m\u001b[43mProcess\u001b[49m\u001b[43m,\u001b[49m\n\u001b[1;32m    304\u001b[0m \u001b[43m                                        \u001b[49m\u001b[38;5;28;43mself\u001b[39;49m\u001b[38;5;241;43m.\u001b[39;49m\u001b[43m_processes\u001b[49m\u001b[43m,\u001b[49m\n\u001b[1;32m    305\u001b[0m \u001b[43m                                        \u001b[49m\u001b[38;5;28;43mself\u001b[39;49m\u001b[38;5;241;43m.\u001b[39;49m\u001b[43m_pool\u001b[49m\u001b[43m,\u001b[49m\u001b[43m \u001b[49m\u001b[38;5;28;43mself\u001b[39;49m\u001b[38;5;241;43m.\u001b[39;49m\u001b[43m_inqueue\u001b[49m\u001b[43m,\u001b[49m\n\u001b[1;32m    306\u001b[0m \u001b[43m                                        \u001b[49m\u001b[38;5;28;43mself\u001b[39;49m\u001b[38;5;241;43m.\u001b[39;49m\u001b[43m_outqueue\u001b[49m\u001b[43m,\u001b[49m\u001b[43m \u001b[49m\u001b[38;5;28;43mself\u001b[39;49m\u001b[38;5;241;43m.\u001b[39;49m\u001b[43m_initializer\u001b[49m\u001b[43m,\u001b[49m\n\u001b[1;32m    307\u001b[0m \u001b[43m                                        \u001b[49m\u001b[38;5;28;43mself\u001b[39;49m\u001b[38;5;241;43m.\u001b[39;49m\u001b[43m_initargs\u001b[49m\u001b[43m,\u001b[49m\n\u001b[1;32m    308\u001b[0m \u001b[43m                                        \u001b[49m\u001b[38;5;28;43mself\u001b[39;49m\u001b[38;5;241;43m.\u001b[39;49m\u001b[43m_maxtasksperchild\u001b[49m\u001b[43m,\u001b[49m\n\u001b[1;32m    309\u001b[0m \u001b[43m                                        \u001b[49m\u001b[38;5;28;43mself\u001b[39;49m\u001b[38;5;241;43m.\u001b[39;49m\u001b[43m_wrap_exception\u001b[49m\u001b[43m)\u001b[49m\n",
      "File \u001b[0;32m/opt/anaconda3/envs/yolov5/lib/python3.9/multiprocessing/pool.py:326\u001b[0m, in \u001b[0;36mPool._repopulate_pool_static\u001b[0;34m(ctx, Process, processes, pool, inqueue, outqueue, initializer, initargs, maxtasksperchild, wrap_exception)\u001b[0m\n\u001b[1;32m    324\u001b[0m w\u001b[38;5;241m.\u001b[39mname \u001b[38;5;241m=\u001b[39m w\u001b[38;5;241m.\u001b[39mname\u001b[38;5;241m.\u001b[39mreplace(\u001b[38;5;124m'\u001b[39m\u001b[38;5;124mProcess\u001b[39m\u001b[38;5;124m'\u001b[39m, \u001b[38;5;124m'\u001b[39m\u001b[38;5;124mPoolWorker\u001b[39m\u001b[38;5;124m'\u001b[39m)\n\u001b[1;32m    325\u001b[0m w\u001b[38;5;241m.\u001b[39mdaemon \u001b[38;5;241m=\u001b[39m \u001b[38;5;28;01mTrue\u001b[39;00m\n\u001b[0;32m--> 326\u001b[0m \u001b[43mw\u001b[49m\u001b[38;5;241;43m.\u001b[39;49m\u001b[43mstart\u001b[49m\u001b[43m(\u001b[49m\u001b[43m)\u001b[49m\n\u001b[1;32m    327\u001b[0m pool\u001b[38;5;241m.\u001b[39mappend(w)\n\u001b[1;32m    328\u001b[0m util\u001b[38;5;241m.\u001b[39mdebug(\u001b[38;5;124m'\u001b[39m\u001b[38;5;124madded worker\u001b[39m\u001b[38;5;124m'\u001b[39m)\n",
      "File \u001b[0;32m/opt/anaconda3/envs/yolov5/lib/python3.9/multiprocessing/process.py:121\u001b[0m, in \u001b[0;36mBaseProcess.start\u001b[0;34m(self)\u001b[0m\n\u001b[1;32m    118\u001b[0m \u001b[38;5;28;01massert\u001b[39;00m \u001b[38;5;129;01mnot\u001b[39;00m _current_process\u001b[38;5;241m.\u001b[39m_config\u001b[38;5;241m.\u001b[39mget(\u001b[38;5;124m'\u001b[39m\u001b[38;5;124mdaemon\u001b[39m\u001b[38;5;124m'\u001b[39m), \\\n\u001b[1;32m    119\u001b[0m        \u001b[38;5;124m'\u001b[39m\u001b[38;5;124mdaemonic processes are not allowed to have children\u001b[39m\u001b[38;5;124m'\u001b[39m\n\u001b[1;32m    120\u001b[0m _cleanup()\n\u001b[0;32m--> 121\u001b[0m \u001b[38;5;28mself\u001b[39m\u001b[38;5;241m.\u001b[39m_popen \u001b[38;5;241m=\u001b[39m \u001b[38;5;28;43mself\u001b[39;49m\u001b[38;5;241;43m.\u001b[39;49m\u001b[43m_Popen\u001b[49m\u001b[43m(\u001b[49m\u001b[38;5;28;43mself\u001b[39;49m\u001b[43m)\u001b[49m\n\u001b[1;32m    122\u001b[0m \u001b[38;5;28mself\u001b[39m\u001b[38;5;241m.\u001b[39m_sentinel \u001b[38;5;241m=\u001b[39m \u001b[38;5;28mself\u001b[39m\u001b[38;5;241m.\u001b[39m_popen\u001b[38;5;241m.\u001b[39msentinel\n\u001b[1;32m    123\u001b[0m \u001b[38;5;66;03m# Avoid a refcycle if the target function holds an indirect\u001b[39;00m\n\u001b[1;32m    124\u001b[0m \u001b[38;5;66;03m# reference to the process object (see bpo-30775)\u001b[39;00m\n",
      "File \u001b[0;32m/opt/anaconda3/envs/yolov5/lib/python3.9/multiprocessing/context.py:284\u001b[0m, in \u001b[0;36mSpawnProcess._Popen\u001b[0;34m(process_obj)\u001b[0m\n\u001b[1;32m    281\u001b[0m \u001b[38;5;129m@staticmethod\u001b[39m\n\u001b[1;32m    282\u001b[0m \u001b[38;5;28;01mdef\u001b[39;00m \u001b[38;5;21m_Popen\u001b[39m(process_obj):\n\u001b[1;32m    283\u001b[0m     \u001b[38;5;28;01mfrom\u001b[39;00m \u001b[38;5;21;01m.\u001b[39;00m\u001b[38;5;21;01mpopen_spawn_posix\u001b[39;00m \u001b[38;5;28;01mimport\u001b[39;00m Popen\n\u001b[0;32m--> 284\u001b[0m     \u001b[38;5;28;01mreturn\u001b[39;00m \u001b[43mPopen\u001b[49m\u001b[43m(\u001b[49m\u001b[43mprocess_obj\u001b[49m\u001b[43m)\u001b[49m\n",
      "File \u001b[0;32m/opt/anaconda3/envs/yolov5/lib/python3.9/multiprocessing/popen_spawn_posix.py:32\u001b[0m, in \u001b[0;36mPopen.__init__\u001b[0;34m(self, process_obj)\u001b[0m\n\u001b[1;32m     30\u001b[0m \u001b[38;5;28;01mdef\u001b[39;00m \u001b[38;5;21m__init__\u001b[39m(\u001b[38;5;28mself\u001b[39m, process_obj):\n\u001b[1;32m     31\u001b[0m     \u001b[38;5;28mself\u001b[39m\u001b[38;5;241m.\u001b[39m_fds \u001b[38;5;241m=\u001b[39m []\n\u001b[0;32m---> 32\u001b[0m     \u001b[38;5;28;43msuper\u001b[39;49m\u001b[43m(\u001b[49m\u001b[43m)\u001b[49m\u001b[38;5;241;43m.\u001b[39;49m\u001b[38;5;21;43m__init__\u001b[39;49m\u001b[43m(\u001b[49m\u001b[43mprocess_obj\u001b[49m\u001b[43m)\u001b[49m\n",
      "File \u001b[0;32m/opt/anaconda3/envs/yolov5/lib/python3.9/multiprocessing/popen_fork.py:19\u001b[0m, in \u001b[0;36mPopen.__init__\u001b[0;34m(self, process_obj)\u001b[0m\n\u001b[1;32m     17\u001b[0m \u001b[38;5;28mself\u001b[39m\u001b[38;5;241m.\u001b[39mreturncode \u001b[38;5;241m=\u001b[39m \u001b[38;5;28;01mNone\u001b[39;00m\n\u001b[1;32m     18\u001b[0m \u001b[38;5;28mself\u001b[39m\u001b[38;5;241m.\u001b[39mfinalizer \u001b[38;5;241m=\u001b[39m \u001b[38;5;28;01mNone\u001b[39;00m\n\u001b[0;32m---> 19\u001b[0m \u001b[38;5;28;43mself\u001b[39;49m\u001b[38;5;241;43m.\u001b[39;49m\u001b[43m_launch\u001b[49m\u001b[43m(\u001b[49m\u001b[43mprocess_obj\u001b[49m\u001b[43m)\u001b[49m\n",
      "File \u001b[0;32m/opt/anaconda3/envs/yolov5/lib/python3.9/multiprocessing/popen_spawn_posix.py:42\u001b[0m, in \u001b[0;36mPopen._launch\u001b[0;34m(self, process_obj)\u001b[0m\n\u001b[1;32m     40\u001b[0m tracker_fd \u001b[38;5;241m=\u001b[39m resource_tracker\u001b[38;5;241m.\u001b[39mgetfd()\n\u001b[1;32m     41\u001b[0m \u001b[38;5;28mself\u001b[39m\u001b[38;5;241m.\u001b[39m_fds\u001b[38;5;241m.\u001b[39mappend(tracker_fd)\n\u001b[0;32m---> 42\u001b[0m prep_data \u001b[38;5;241m=\u001b[39m \u001b[43mspawn\u001b[49m\u001b[38;5;241;43m.\u001b[39;49m\u001b[43mget_preparation_data\u001b[49m\u001b[43m(\u001b[49m\u001b[43mprocess_obj\u001b[49m\u001b[38;5;241;43m.\u001b[39;49m\u001b[43m_name\u001b[49m\u001b[43m)\u001b[49m\n\u001b[1;32m     43\u001b[0m fp \u001b[38;5;241m=\u001b[39m io\u001b[38;5;241m.\u001b[39mBytesIO()\n\u001b[1;32m     44\u001b[0m set_spawning_popen(\u001b[38;5;28mself\u001b[39m)\n",
      "File \u001b[0;32m/opt/anaconda3/envs/yolov5/lib/python3.9/multiprocessing/spawn.py:183\u001b[0m, in \u001b[0;36mget_preparation_data\u001b[0;34m(name)\u001b[0m\n\u001b[1;32m    180\u001b[0m \u001b[38;5;66;03m# Figure out whether to initialise main in the subprocess as a module\u001b[39;00m\n\u001b[1;32m    181\u001b[0m \u001b[38;5;66;03m# or through direct execution (or to leave it alone entirely)\u001b[39;00m\n\u001b[1;32m    182\u001b[0m main_module \u001b[38;5;241m=\u001b[39m sys\u001b[38;5;241m.\u001b[39mmodules[\u001b[38;5;124m'\u001b[39m\u001b[38;5;124m__main__\u001b[39m\u001b[38;5;124m'\u001b[39m]\n\u001b[0;32m--> 183\u001b[0m main_mod_name \u001b[38;5;241m=\u001b[39m \u001b[38;5;28mgetattr\u001b[39m(\u001b[43mmain_module\u001b[49m\u001b[38;5;241;43m.\u001b[39;49m\u001b[43m__spec__\u001b[49m, \u001b[38;5;124m\"\u001b[39m\u001b[38;5;124mname\u001b[39m\u001b[38;5;124m\"\u001b[39m, \u001b[38;5;28;01mNone\u001b[39;00m)\n\u001b[1;32m    184\u001b[0m \u001b[38;5;28;01mif\u001b[39;00m main_mod_name \u001b[38;5;129;01mis\u001b[39;00m \u001b[38;5;129;01mnot\u001b[39;00m \u001b[38;5;28;01mNone\u001b[39;00m:\n\u001b[1;32m    185\u001b[0m     d[\u001b[38;5;124m'\u001b[39m\u001b[38;5;124minit_main_from_name\u001b[39m\u001b[38;5;124m'\u001b[39m] \u001b[38;5;241m=\u001b[39m main_mod_name\n",
      "\u001b[0;31mAttributeError\u001b[0m: module '__main__' has no attribute '__spec__'"
     ]
    }
   ],
   "source": [
    "%run train.py --img 640 --batch 16 --epochs 1 --data molecule_images/molecule_detection_yolov5.yaml --weights yolov5s.pt\n"
   ]
  },
  {
   "cell_type": "code",
   "execution_count": 42,
   "metadata": {},
   "outputs": [],
   "source": [
    "from azureml.core import Workspace, Experiment, Environment, ScriptRunConfig\n",
    "from azureml.core.conda_dependencies import CondaDependencies"
   ]
  },
  {
   "cell_type": "code",
   "execution_count": 43,
   "metadata": {},
   "outputs": [],
   "source": [
    "yolov5_env = Environment(name=\"yolov5_env\")\n",
    "\n",
    "# Start from a base docker environments defined by Microsoft\n",
    "yolov5_env.docker.base_image  = \"mcr.microsoft.com/azureml/openmpi4.1.0-cuda11.0.3-cudnn8-ubuntu18.04\"\n",
    "\n",
    "conda_dep = CondaDependencies()\n",
    "# Indicate which version of python needs to be installed\n",
    "conda_dep.add_conda_package('python=3.9')\n",
    "\n",
    "# install all the yolov5 requirement at the image build time\n",
    "with open('requirements.txt', 'r') as f:\n",
    "    line = f.readline()\n",
    "    \n",
    "    while line != '':    \n",
    "        # If the line is a comment or empty, skip it    \n",
    "        if line.startswith('#') or len(line.split()) == 0:\n",
    "            line = f.readline()\n",
    "            continue\n",
    "        # Otherwise add the corresponding package name as a dependency\n",
    "        conda_dep.add_pip_package(line.split()[0])\n",
    "        # Then move on to the next line in the requirements.txt file\n",
    "        line = f.readline()\n",
    "\n",
    "yolov5_env.python.conda_dependencies=conda_dep"
   ]
  },
  {
   "cell_type": "code",
   "execution_count": 44,
   "metadata": {},
   "outputs": [
    {
     "data": {
      "text/plain": [
       "<bound method Environment.get_image_details of {\n",
       "    \"assetId\": null,\n",
       "    \"databricks\": {\n",
       "        \"eggLibraries\": [],\n",
       "        \"jarLibraries\": [],\n",
       "        \"mavenLibraries\": [],\n",
       "        \"pypiLibraries\": [],\n",
       "        \"rcranLibraries\": []\n",
       "    },\n",
       "    \"docker\": {\n",
       "        \"arguments\": [],\n",
       "        \"baseDockerfile\": null,\n",
       "        \"baseImage\": \"mcr.microsoft.com/azureml/openmpi4.1.0-cuda11.0.3-cudnn8-ubuntu18.04\",\n",
       "        \"baseImageRegistry\": {\n",
       "            \"address\": null,\n",
       "            \"password\": null,\n",
       "            \"registryIdentity\": null,\n",
       "            \"username\": null\n",
       "        },\n",
       "        \"buildContext\": null,\n",
       "        \"enabled\": false,\n",
       "        \"platform\": {\n",
       "            \"architecture\": \"amd64\",\n",
       "            \"os\": \"Linux\"\n",
       "        },\n",
       "        \"sharedVolumes\": true,\n",
       "        \"shmSize\": \"2g\"\n",
       "    },\n",
       "    \"environmentVariables\": {\n",
       "        \"EXAMPLE_ENV_VAR\": \"EXAMPLE_VALUE\"\n",
       "    },\n",
       "    \"inferencingStackVersion\": null,\n",
       "    \"name\": \"yolov5_env\",\n",
       "    \"python\": {\n",
       "        \"baseCondaEnvironment\": null,\n",
       "        \"condaDependencies\": {\n",
       "            \"channels\": [\n",
       "                \"anaconda\",\n",
       "                \"conda-forge\"\n",
       "            ],\n",
       "            \"dependencies\": [\n",
       "                \"python=3.9\",\n",
       "                {\n",
       "                    \"pip\": [\n",
       "                        \"azureml-defaults\",\n",
       "                        \"gitpython>=3.1.30\",\n",
       "                        \"matplotlib>=3.3\",\n",
       "                        \"numpy>=1.23.5\",\n",
       "                        \"opencv-python>=4.1.1\",\n",
       "                        \"pillow>=10.3.0\",\n",
       "                        \"psutil\",\n",
       "                        \"PyYAML>=5.3.1\",\n",
       "                        \"requests>=2.23.0\",\n",
       "                        \"scipy>=1.4.1\",\n",
       "                        \"thop>=0.1.1\",\n",
       "                        \"torch>=1.8.0\",\n",
       "                        \"torchvision>=0.9.0\",\n",
       "                        \"tqdm>=4.64.0\",\n",
       "                        \"ultralytics>=8.0.232\",\n",
       "                        \"pandas>=1.1.4\",\n",
       "                        \"seaborn>=0.11.0\",\n",
       "                        \"setuptools>=65.5.1\",\n",
       "                        \"wheel>=0.38.0\"\n",
       "                    ]\n",
       "                }\n",
       "            ],\n",
       "            \"name\": \"project_environment\"\n",
       "        },\n",
       "        \"condaDependenciesFile\": null,\n",
       "        \"interpreterPath\": \"python\",\n",
       "        \"userManagedDependencies\": false\n",
       "    },\n",
       "    \"r\": null,\n",
       "    \"spark\": {\n",
       "        \"packages\": [],\n",
       "        \"precachePackages\": true,\n",
       "        \"repositories\": []\n",
       "    },\n",
       "    \"version\": null\n",
       "}>"
      ]
     },
     "execution_count": 44,
     "metadata": {},
     "output_type": "execute_result"
    }
   ],
   "source": [
    "yolov5_env.get_image_details\n"
   ]
  },
  {
   "cell_type": "code",
   "execution_count": 45,
   "metadata": {},
   "outputs": [],
   "source": [
    "from azureml.core import Workspace, Experiment, Environment, ScriptRunConfig\n",
    "from azureml.core.conda_dependencies import CondaDependencies"
   ]
  },
  {
   "cell_type": "code",
   "execution_count": 46,
   "metadata": {},
   "outputs": [],
   "source": [
    "subscription_id = 'cbcd0d6a-0ae5-48a7-a46d-4a4f3c692c71'\n",
    "resource_group  = 'rg-amlclass-tfarmer5'\n",
    "workspace_name  = 'azureml-tfarmer5'\n",
    "ws = Workspace(subscription_id, resource_group, workspace_name)\n",
    "\n",
    "experiment = Experiment(workspace=ws, name='molecule_detection_yolo_training')"
   ]
  },
  {
   "cell_type": "code",
   "execution_count": 50,
   "metadata": {},
   "outputs": [],
   "source": [
    "# Overall configuration for the script to be run on the compute cluster\n",
    "config = ScriptRunConfig(source_directory='./deploy_yolo_training/',   ## folder in which the script is located\n",
    "                         script='trainin_on_aml.py',       ## script name\n",
    "                         compute_target='GPU-tfarmer5',\n",
    "                         environment=yolov5_env)   \n"
   ]
  },
  {
   "cell_type": "code",
   "execution_count": 51,
   "metadata": {},
   "outputs": [
    {
     "data": {
      "text/plain": [
       "'/Users/stlp/Downloads/Mse544-CustomVision/MSE544_yolo_training/yolov5'"
      ]
     },
     "execution_count": 51,
     "metadata": {},
     "output_type": "execute_result"
    }
   ],
   "source": [
    "os.getcwd()\n"
   ]
  },
  {
   "cell_type": "code",
   "execution_count": 56,
   "metadata": {},
   "outputs": [
    {
     "name": "stdout",
     "output_type": "stream",
     "text": [
      "https://ml.azure.com/runs/molecule_detection_yolo_training_1716257158_5a34c6ef?wsid=/subscriptions/cbcd0d6a-0ae5-48a7-a46d-4a4f3c692c71/resourcegroups/rg-amlclass-tfarmer5/workspaces/azureml-tfarmer5&tid=f6b6dd5b-f02f-441a-99a0-162ac5060bd2\n"
     ]
    }
   ],
   "source": [
    "run = experiment.submit(config)\n",
    "aml_url = run.get_portal_url()\n",
    "print(aml_url)"
   ]
  },
  {
   "cell_type": "code",
   "execution_count": 79,
   "metadata": {},
   "outputs": [
    {
     "name": "stdout",
     "output_type": "stream",
     "text": [
      "usage: detect.py [-h] [--weights WEIGHTS [WEIGHTS ...]] [--source SOURCE]\n",
      "                 [--data DATA] [--imgsz IMGSZ [IMGSZ ...]]\n",
      "                 [--conf-thres CONF_THRES] [--iou-thres IOU_THRES]\n",
      "                 [--max-det MAX_DET] [--device DEVICE] [--view-img]\n",
      "                 [--save-txt] [--save-csv] [--save-conf] [--save-crop]\n",
      "                 [--nosave] [--classes CLASSES [CLASSES ...]] [--agnostic-nms]\n",
      "                 [--augment] [--visualize] [--update] [--project PROJECT]\n",
      "                 [--name NAME] [--exist-ok] [--line-thickness LINE_THICKNESS]\n",
      "                 [--hide-labels] [--hide-conf] [--half] [--dnn]\n",
      "                 [--vid-stride VID_STRIDE]\n",
      "detect.py: error: unrecognized arguments: 2024-05-20 at 8.08.26 PM.png\n"
     ]
    }
   ],
   "source": [
    "!python detect.py --source MSE544_yolo_training/yolov5/deploy_yolo_training/molecule_images/test/images/Screenshot 2024-05-20 at 8.08.26 PM.png  --weights deploy_yolo_training/Job_loyal_tooth_67107cs9_OutputsAndLogs/outputs/runs/train/exp/weights/best.pt --conf 0.5\n"
   ]
  },
  {
   "cell_type": "code",
   "execution_count": 3,
   "metadata": {},
   "outputs": [
    {
     "name": "stdout",
     "output_type": "stream",
     "text": [
      "\u001b[34m\u001b[1mdetect: \u001b[0mweights=['deploy_yolo_training/Job_loyal_tooth_67107cs9_OutputsAndLogs/outputs/runs/train/exp/weights/best.pt'], source=deploy_yolo_training/molecule_images/test/images/andrew2.png, data=data/coco128.yaml, imgsz=[640, 640], conf_thres=0.5, iou_thres=0.45, max_det=1000, device=, view_img=False, save_txt=False, save_csv=False, save_conf=False, save_crop=False, nosave=False, classes=None, agnostic_nms=False, augment=False, visualize=False, update=False, project=runs/detect, name=exp, exist_ok=False, line_thickness=3, hide_labels=False, hide_conf=False, half=False, dnn=False, vid_stride=1\n",
      "YOLOv5 🚀 v7.0-313-g712de55a Python-3.9.19 torch-2.2.2 CPU\n",
      "\n",
      "Fusing layers... \n",
      "[W NNPACK.cpp:64] Could not initialize NNPACK! Reason: Unsupported hardware.\n",
      "Model summary: 157 layers, 7012822 parameters, 0 gradients, 15.8 GFLOPs\n",
      "image 1/1 /Users/stlp/Downloads/Mse544-CustomVision/MSE544_yolo_training/yolov5/deploy_yolo_training/molecule_images/test/images/andrew2.png: 224x640 2 molecules, 174.3ms\n",
      "Speed: 2.0ms pre-process, 174.3ms inference, 14.0ms NMS per image at shape (1, 3, 640, 640)\n",
      "Results saved to \u001b[1mruns/detect/exp30\u001b[0m\n"
     ]
    }
   ],
   "source": [
    "!python detect.py --source \"deploy_yolo_training/molecule_images/test/images/andrew2.png\" --weights deploy_yolo_training/Job_loyal_tooth_67107cs9_OutputsAndLogs/outputs/runs/train/exp/weights/best.pt --conf 0.5\n"
   ]
  }
 ],
 "metadata": {
  "kernelspec": {
   "display_name": "MSE544CVpy310",
   "language": "python",
   "name": "python3"
  },
  "language_info": {
   "codemirror_mode": {
    "name": "ipython",
    "version": 3
   },
   "file_extension": ".py",
   "mimetype": "text/x-python",
   "name": "python",
   "nbconvert_exporter": "python",
   "pygments_lexer": "ipython3",
   "version": "3.9.19"
  }
 },
 "nbformat": 4,
 "nbformat_minor": 2
}
