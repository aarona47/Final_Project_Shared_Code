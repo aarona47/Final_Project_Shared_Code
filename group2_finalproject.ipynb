#Chem543 Group 2 Final Project - Spring 2024
