#Chem543 Group 2 Final Project - Spring 2024
#Takaye F, 
#Can everyone come and type your name in the line above just so that we can know that everyone knows how to edit this Jupyter Notebook!
