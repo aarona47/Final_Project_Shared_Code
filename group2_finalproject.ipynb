#Chem543 Group 2 Final Project - Spring 2024
#Takaye F, Aaron A, Santiago H, Juliette CM, Michael K
#Can everyone come and type your name in the line above just so that we can know that everyone knows how to edit this Jupyter Notebook!

#Make sure to install these in terminal before running
# e.g. pip install Py, pip install PyTorch, etc.
import argparse
import os
import shutil
import sys
import time
import warnings
from random import sample

import numpy as np
import torch
import torch.nn as nn
import torch.optim as optim
from sklearn import metrics
from torch.autograd import Variable
from torch.optim.lr_scheduler import MultiStepLR

#Notes for starting via the CustomVision tutorial imageupload.ipynb - Juliette
#copy the util.py and azurepy.py files to the Final Project Folder in VS Code via the terminal (move local files from one directory to the next)
# first move to the directory you want to copy files to then input this code in the terminal: /<full pathname to file>/util.py . 
#now in the jupyter notebook for the final project input and run the following code (I used the yolov5 kernal to run this) 

%pip install azure-cognitiveservices-vision-customvision scikit-learn scikit-image

import os
from util import labeledImage
from azureapi import AzureCVObjectDetectionAPI
from sklearn.model_selection import train_test_split

#Creating molecule identification via object detection

#Created object detection using ImageJ before running perforance analysis
#Labeled images in IamgeJ, split up labeling between group members - possible error: differences in how group members labled defects
#Create labels folder in mos2 folder and run performance analysis
