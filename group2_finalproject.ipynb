#Chem543 Group 2 Final Project - Spring 2024
#Takaye F, Aaron A, Santiago H, Juliette CM, 
#Can everyone come and type your name in the line above just so that we can know that everyone knows how to edit this Jupyter Notebook!

#Make sure to install these in terminal before running
# e.g. pip install Py, pip install PyTorch, etc.
import argparse
import os
import shutil
import sys
import time
import warnings
from random import sample

import numpy as np
import torch
import torch.nn as nn
import torch.optim as optim
from sklearn import metrics
from torch.autograd import Variable
from torch.optim.lr_scheduler import MultiStepLR

