#ALL of the "molecule" words in this file need to be changed to "images" or "defects"

{
 "cells": [
  {
   "cell_type": "code",
   "execution_count": 3,
   "metadata": {},
   "outputs": [],
   "source": [
    "import os\n",
    "from util import labeledImage\n",
    "from azureapi import AzureCVObjectDetectionAPI\n",
    "from sklearn.model_selection import train_test_split"
   ]
  },
  {
   "cell_type": "code",
   "execution_count": 6,
   "metadata": {},
   "outputs": [],
   "source": [
    "molecules_dir = './molecules/'\n",
    "labels_dir = './molecules/labels/'\n",
    "\n",
    "labeled_images = []\n",
    "tag = 'molecule'\n",
    "\n",
    "for file in os.listdir(molecules_dir):\n",
    "    if file.endswith(\".jpeg\"):\n",
    "         image_path = os.path.join(molecules_dir, file)\n",
    "         label_path = os.path.join(labels_dir, file.split('.')[0] + '.txt')\n",
    "         labeled_images.append(labeledImage(image_path))\n",
    "         labeled_images[-1].add_labels_from_file(tag, label_path)\n"
   ]
  },
  {
   "cell_type": "code",
   "execution_count": 7,
   "metadata": {},
   "outputs": [
    {
     "name": "stdout",
     "output_type": "stream",
     "text": [
      "Labeled image ma-2010-01523a_0003.jpeg\n",
      "    location: ./molecules/ma-2010-01523a_0003.jpeg\n",
      "    shape: (1247, 4000)\n",
      "    labels:\n",
      "    - molecule: \n",
      "      [0, 6, 708, 1059]\n",
      "      [768, 426, 1098, 555]\n",
      "      [2793, 0, 1207, 1247]\n",
      "\n"
     ]
    }
   ],
   "source": [
    " print(labeled_images[0])\n"
   ]
  },
  {
   "cell_type": "code",
   "execution_count": 8,
   "metadata": {},
   "outputs": [],
   "source": [
    " train_images, test_images = train_test_split(labeled_images, test_size=0.2, random_state=42)\n"
   ]
  },
  {
   "cell_type": "code",
   "execution_count": 11,
   "metadata": {},
   "outputs": [],
   "source": [
    "Endpoint    = '<CHANGE-ME>',
    "Key         = '<CHANGE-ME>',
    "Resource_Id = '<CHANGE-ME>',
    "Project_Id  = '<CHANGE-ME>',
    "\n",
    "ACVObjectDetector = AzureCVObjectDetectionAPI(Endpoint, Key, Resource_Id, Project_Id)\n"
   ]
  }
 ],
 "metadata": {
  "kernelspec": {
   "display_name": "MSE544CVpy310",
   "language": "python",
   "name": "python3"
  },
  "language_info": {
   "codemirror_mode": {
    "name": "ipython",
    "version": 3
   },
   "file_extension": ".py",
   "mimetype": "text/x-python",
   "name": "python",
   "nbconvert_exporter": "python",
   "pygments_lexer": "ipython3",
   "version": "3.10.14"
  }
 },
 "nbformat": 4,
 "nbformat_minor": 2
}
