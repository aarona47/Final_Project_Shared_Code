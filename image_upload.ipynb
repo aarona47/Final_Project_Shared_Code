{
 "cells": [
  {
   "cell_type": "code",
   "execution_count": 3,
   "metadata": {},
   "outputs": [],
   "source": [
    "import os\n",
    "from util import labeledImage\n",
    "from azureapi import AzureCVObjectDetectionAPI\n",
    "from sklearn.model_selection import train_test_split"
   ]
  },
  {
   "cell_type": "code",
   "execution_count": 6,
   "metadata": {},
   "outputs": [],
   "source": [
    "molecules_dir = './molecules/'\n",
    "labels_dir = './molecules/labels/'\n",
    "\n",
    "labeled_images = []\n",
    "tag = 'molecule'\n",
    "\n",
    "for file in os.listdir(molecules_dir):\n",
    "    if file.endswith(\".jpeg\"):\n",
    "         image_path = os.path.join(molecules_dir, file)\n",
    "         label_path = os.path.join(labels_dir, file.split('.')[0] + '.txt')\n",
    "         labeled_images.append(labeledImage(image_path))\n",
    "         labeled_images[-1].add_labels_from_file(tag, label_path)\n"
   ]
  },
  {
   "cell_type": "code",
   "execution_count": 7,
   "metadata": {},
   "outputs": [
    {
     "name": "stdout",
     "output_type": "stream",
     "text": [
      "Labeled image ma-2010-01523a_0003.jpeg\n",
      "    location: ./molecules/ma-2010-01523a_0003.jpeg\n",
      "    shape: (1247, 4000)\n",
      "    labels:\n",
      "    - molecule: \n",
      "      [0, 6, 708, 1059]\n",
      "      [768, 426, 1098, 555]\n",
      "      [2793, 0, 1207, 1247]\n",
      "\n"
     ]
    }
   ],
   "source": [
    " print(labeled_images[0])\n"
   ]
  },
  {
   "cell_type": "code",
   "execution_count": 8,
   "metadata": {},
   "outputs": [],
   "source": [
    " train_images, test_images = train_test_split(labeled_images, test_size=0.2, random_state=42)\n"
   ]
  },
  {
   "cell_type": "code",
   "execution_count": 11,
   "metadata": {},
   "outputs": [],
   "source": [
    "Endpoint    = 'https://southcentralus.api.cognitive.microsoft.com/'\n",
    "Key         = '6ad5e910ef444b53873f64bab0aee6ac'\n",
    "Resource_Id = '/subscriptions/cbcd0d6a-0ae5-48a7-a46d-4a4f3c692c71/resourceGroups/rg-amlclass-tfarmer5/providers/Microsoft.CognitiveServices/accounts/cv_tfarmer5'\n",
    "Project_Id  = 'a57c9bcd-a255-4d2d-b6e1-125a2717fc53'\n",
    "\n",
    "ACVObjectDetector = AzureCVObjectDetectionAPI(Endpoint, Key, Resource_Id, Project_Id)\n"
   ]
  }
 ],
 "metadata": {
  "kernelspec": {
   "display_name": "MSE544CVpy310",
   "language": "python",
   "name": "python3"
  },
  "language_info": {
   "codemirror_mode": {
    "name": "ipython",
    "version": 3
   },
   "file_extension": ".py",
   "mimetype": "text/x-python",
   "name": "python",
   "nbconvert_exporter": "python",
   "pygments_lexer": "ipython3",
   "version": "3.10.14"
  }
 },
 "nbformat": 4,
 "nbformat_minor": 2
}
